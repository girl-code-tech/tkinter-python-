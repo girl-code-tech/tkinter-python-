{
 "cells": [
  {
   "cell_type": "markdown",
   "metadata": {},
   "source": [
    "# Temparature Converter"
   ]
  },
  {
   "cell_type": "code",
   "execution_count": 4,
   "metadata": {},
   "outputs": [],
   "source": [
    "def convert():\n",
    "\n",
    "    fahrenheit=int(text.get())\n",
    "    celsius = (5/9) * (float(fahrenheit) - 32)\n",
    "    label1['text']= f\"{round(celsius, 2)} \\N{DEGREE CELSIUS}\"\n",
    "    \n",
    "    \n",
    "import tkinter as tk\n",
    "window=tk.Tk()\n",
    "\n",
    "\n",
    "\n",
    "text=tk.Entry()\n",
    "text.pack(side=tk.LEFT)\n",
    "\n",
    "label=tk.Label(master=window,\n",
    "               text=\"F\",\n",
    " width=5,\n",
    "    height=2,\n",
    "    \n",
    "    borderwidth=1, padx=-1,bg=\"white\", fg=\"black\",\n",
    "    )\n",
    "label.pack(side=tk.LEFT)\n",
    "\n",
    "button=tk.Button( master=window,text=\"->\", command=convert,\n",
    "    width=5,\n",
    "    height=2,\n",
    "    bg=\"white\",\n",
    "    borderwidth=1, padx=2,\n",
    "    fg=\"black\",)\n",
    "button.pack(side=tk.LEFT)\n",
    "label1=tk.Label(master=window,\n",
    "               text=\" C\",\n",
    " width=10,\n",
    "    height=2,\n",
    "    bg=\"black\", fg=\"white\",\n",
    "    borderwidth=1, padx=2,\n",
    "    )\n",
    "label1.pack(side=tk.LEFT)\n",
    "\n",
    "\n",
    "window.mainloop()"
   ]
  },
  {
   "cell_type": "code",
   "execution_count": null,
   "metadata": {},
   "outputs": [],
   "source": []
  }
 ],
 "metadata": {
  "kernelspec": {
   "display_name": "Python 3",
   "language": "python",
   "name": "python3"
  },
  "language_info": {
   "codemirror_mode": {
    "name": "ipython",
    "version": 3
   },
   "file_extension": ".py",
   "mimetype": "text/x-python",
   "name": "python",
   "nbconvert_exporter": "python",
   "pygments_lexer": "ipython3",
   "version": "3.8.5"
  }
 },
 "nbformat": 4,
 "nbformat_minor": 4
}
