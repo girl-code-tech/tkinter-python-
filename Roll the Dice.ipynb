{
 "cells": [
  {
   "cell_type": "code",
   "execution_count": 2,
   "metadata": {},
   "outputs": [],
   "source": [
    "import tkinter as tk"
   ]
  },
  {
   "cell_type": "code",
   "execution_count": 4,
   "metadata": {},
   "outputs": [],
   "source": [
    "import random\n",
    "def roll():\n",
    "    randomNumber=random.randint(1,6)\n",
    "    label[\"text\"]=randomNumber\n",
    "    \n",
    "\n",
    "\n",
    "window=tk.Tk()\n",
    "button=tk.Button( master=window,text=\"Roll The Die\", command=roll,\n",
    "    width=100,\n",
    "    height=2,\n",
    "    bg=\"white\",\n",
    "    borderwidth=1, padx=2,\n",
    "    fg=\"black\",)\n",
    "button.pack()\n",
    "label=tk.Label(master=window,\n",
    "text=0,\n",
    " width=100,\n",
    "    height=2,\n",
    "    bg=\"black\", fg=\"white\",\n",
    "    borderwidth=1, padx=2,\n",
    "    )\n",
    "label.pack(side=tk.LEFT)\n",
    "\n",
    "\n",
    "window.mainloop()"
   ]
  },
  {
   "cell_type": "code",
   "execution_count": null,
   "metadata": {},
   "outputs": [],
   "source": []
  }
 ],
 "metadata": {
  "kernelspec": {
   "display_name": "Python 3",
   "language": "python",
   "name": "python3"
  },
  "language_info": {
   "codemirror_mode": {
    "name": "ipython",
    "version": 3
   },
   "file_extension": ".py",
   "mimetype": "text/x-python",
   "name": "python",
   "nbconvert_exporter": "python",
   "pygments_lexer": "ipython3",
   "version": "3.8.5"
  }
 },
 "nbformat": 4,
 "nbformat_minor": 4
}
