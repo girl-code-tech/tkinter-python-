{
 "cells": [
  {
   "cell_type": "markdown",
   "metadata": {},
   "source": [
    "\n",
    "# Getting Started with tkinter"
   ]
  },
  {
   "cell_type": "code",
   "execution_count": 1,
   "metadata": {},
   "outputs": [],
   "source": [
    "import tkinter as tk"
   ]
  },
  {
   "cell_type": "markdown",
   "metadata": {},
   "source": [
    "# Adding Customized Label into the window "
   ]
  },
  {
   "cell_type": "code",
   "execution_count": 75,
   "metadata": {},
   "outputs": [],
   "source": [
    "windows=tk.Tk();\n",
    "label=tk.Label(text=\"Sanjinee\",\n",
    "              foreground='White',\n",
    "              background=\"black\", width=10, height=10)\n",
    "label.pack()\n",
    "windows.mainloop()\n"
   ]
  },
  {
   "cell_type": "code",
   "execution_count": 76,
   "metadata": {},
   "outputs": [],
   "source": [
    "\n",
    "#tk._test()\n",
    "window = tk._test()\n",
    "\n",
    "#print(1)"
   ]
  },
  {
   "cell_type": "markdown",
   "metadata": {},
   "source": [
    "# Adding Buttons in window"
   ]
  },
  {
   "cell_type": "code",
   "execution_count": 77,
   "metadata": {},
   "outputs": [],
   "source": [
    "windows=tk.Tk();\n",
    "button=tk.Button(\n",
    "   text=\"Click me!\",\n",
    "    width=25,\n",
    "    height=5,\n",
    "    bg=\"blue\",\n",
    "    fg=\"yellow\",\n",
    ")\n",
    "button.pack()\n",
    "windows.mainloop()\n"
   ]
  },
  {
   "cell_type": "markdown",
   "metadata": {},
   "source": [
    "# Getting User Input with Entry widget"
   ]
  },
  {
   "cell_type": "code",
   "execution_count": 80,
   "metadata": {},
   "outputs": [],
   "source": [
    "window=tk.Tk()\n",
    "label=tk.Label(text=\"Input: \")\n",
    "entry=tk.Entry()\n",
    "name = entry.get()\n",
    "entry.delete(0, 4)\n",
    "label.pack()\n",
    "entry.pack()\n",
    "window.mainloop()\n"
   ]
  },
  {
   "cell_type": "markdown",
   "metadata": {},
   "source": [
    "Write a complete script that displays an Entry widget that’s 40 text units wide and has a white background and black text. Use .insert() to display text in the widget that reads \"What is your name?\".\n",
    "\n",
    "The output window should look like this:\n",
    "\n",
    "A Tkinter window containing an Entry widget with the text \"What is your name?\"\n"
   ]
  },
  {
   "cell_type": "code",
   "execution_count": 81,
   "metadata": {},
   "outputs": [],
   "source": [
    "# window=tk.Tk()\n",
    "label=tk.Label(text=\"Input: \")\n",
    "entry=tk.Entry(width=40, bg=\"white\", fg=\"black\")\n",
    "name = entry.get()\n",
    "entry.insert(0,\"What is your name: \")\n",
    "#entry.delete(0, 4)\n",
    "label.pack()\n",
    "entry.pack()\n",
    "window.mainloop()\n"
   ]
  },
  {
   "cell_type": "markdown",
   "metadata": {},
   "source": [
    "# Multi Line User Input"
   ]
  },
  {
   "cell_type": "code",
   "execution_count": 82,
   "metadata": {},
   "outputs": [],
   "source": [
    "window=tk.Tk()\n",
    "label=tk.Label(text=\"Input: \")\n",
    "text_Box=tk.Text(width=10, height=10)\n",
    "#name = entry.get()\n",
    "#text_box.insert(\"2.0\", \"\\nWorld\")\n",
    "\n",
    "label.pack()\n",
    "text_Box.pack()\n",
    "window.mainloop()"
   ]
  },
  {
   "cell_type": "markdown",
   "metadata": {},
   "source": [
    "# Frames"
   ]
  },
  {
   "cell_type": "code",
   "execution_count": 83,
   "metadata": {},
   "outputs": [],
   "source": [
    "window = tk.Tk()\n",
    "\n",
    "frame1 = tk.Frame()\n",
    "label1 = tk.Label(master=frame1, text=\"I am in Frame A\")\n",
    "label1.pack()\n",
    "frame1.pack()\n",
    "\n",
    "frame2 = tk.Frame(bg=\"yellow\")\n",
    "label2 = tk.Label(master=frame2, text=\"I am in Frame B\")\n",
    "label2.pack()\n",
    "frame2.pack()\n",
    "window.mainloop()"
   ]
  },
  {
   "cell_type": "markdown",
   "metadata": {},
   "source": [
    "# dictionary of the different relief effects available in Tkinter."
   ]
  },
  {
   "cell_type": "code",
   "execution_count": 84,
   "metadata": {},
   "outputs": [],
   "source": [
    "border_effects = {\n",
    "    \"flat\": tk.FLAT,\n",
    "    \"sunken\": tk.SUNKEN,\n",
    "    \"raised\": tk.RAISED,\n",
    "    \"groove\": tk.GROOVE,\n",
    "    \"ridge\": tk.RIDGE,\n",
    "}\n"
   ]
  },
  {
   "cell_type": "code",
   "execution_count": 86,
   "metadata": {},
   "outputs": [],
   "source": [
    "window = tk.Tk()\n",
    "\n",
    "for relief_name, relief in border_effects.items():   #loop iterates over each item in the border dictionary\n",
    "\n",
    "# creates a new Frame widget and assigns it to the window object. The relief attribute is set to \n",
    "#he corresponding relief in the border_effects dictionary, and the border attribute is set to 5 so that the effect is visible.\n",
    "    frame = tk.Frame(master=window, relief=relief, borderwidth=5)\n",
    "    \n",
    "#packs the Frame into the window using .pack(). \n",
    "#he side keyword argument tells Tkinter in which direction to pack the frame objects. \n",
    "#ou’ll see more about how this works in the next section.\n",
    "    frame.pack(side=tk.TOP)\n",
    "    label = tk.Label(master=frame, text=relief_name)\n",
    "    label.pack()\n",
    "\n",
    "window.mainloop()"
   ]
  },
  {
   "cell_type": "markdown",
   "metadata": {},
   "source": [
    "tk.FLAT: Has no border effect (the default value). \n",
    "\n",
    "tk.SUNKEN: Creates a sunken effect.\n",
    "\n",
    "tk.RAISED: Creates a raised effect. \n",
    "\n",
    "tk.GROOVE: Creates a grooved border effect. \n",
    "\n",
    "tk.RIDGE: Creates a ridged effect."
   ]
  },
  {
   "cell_type": "markdown",
   "metadata": {},
   "source": [
    "# Controlling Layout With Geometry Managers"
   ]
  },
  {
   "cell_type": "markdown",
   "metadata": {},
   "source": [
    ".pack() packs the items in your window in a specified order\n",
    "This packing algorithm has two primary fundamentals:\n",
    "Compute a rectangular area called a parcel that’s just tall (or wide) enough to hold the widget and fills the \n",
    "remaining width (or height) in the window with blank space.\n",
    "Center the widget in the parcel unless a different location is specified.\n",
    ".pack() places each Frame below the previous one by default, in the order that they’re assigned to the window:"
   ]
  },
  {
   "cell_type": "code",
   "execution_count": 87,
   "metadata": {},
   "outputs": [],
   "source": [
    "window = tk.Tk()\n",
    "\n",
    "frame1 = tk.Frame(master=window, width=100, height=100, bg=\"grey\")\n",
    "frame1.pack()\n",
    "\n",
    "frame2 = tk.Frame(master=window, width=80, height=80, bg=\"blue\")\n",
    "frame2.pack()\n",
    "\n",
    "frame3 = tk.Frame(master=window, width=25, height=25, bg=\"black\")\n",
    "frame3.pack()\n",
    "\n",
    "window.mainloop()"
   ]
  },
  {
   "cell_type": "code",
   "execution_count": 88,
   "metadata": {},
   "outputs": [],
   "source": [
    "window = tk.Tk()\n",
    "\n",
    "frame1 = tk.Frame(master=window, height=100, bg=\"red\")\n",
    "frame1.pack(fill=tk.X)\n",
    "\n",
    "frame2 = tk.Frame(master=window, height=50, bg=\"yellow\")\n",
    "frame2.pack(fill=tk.X)\n",
    "\n",
    "frame3 = tk.Frame(master=window, height=25, bg=\"blue\")\n",
    "frame3.pack(fill=tk.X)\n",
    "\n",
    "window.mainloop()"
   ]
  },
  {
   "cell_type": "code",
   "execution_count": 89,
   "metadata": {},
   "outputs": [],
   "source": [
    "window = tk.Tk()\n",
    "\n",
    "frame1 = tk.Frame(master=window, width=200, height=100, bg=\"red\")\n",
    "frame1.pack(fill=tk.Y, side=tk.LEFT)\n",
    "\n",
    "frame2 = tk.Frame(master=window, width=100, bg=\"yellow\")\n",
    "frame2.pack(fill=tk.Y, side=tk.LEFT)\n",
    "\n",
    "frame3 = tk.Frame(master=window, width=50, bg=\"blue\")\n",
    "frame3.pack(fill=tk.Y, side=tk.LEFT)\n",
    "\n",
    "window.mainloop()"
   ]
  },
  {
   "cell_type": "code",
   "execution_count": 90,
   "metadata": {},
   "outputs": [],
   "source": [
    "window = tk.Tk()\n",
    "\n",
    "frame1 = tk.Frame(master=window, width=200, height=100, bg=\"red\")\n",
    "frame1.pack(fill=tk.BOTH, side=tk.LEFT, expand=True)\n",
    "\n",
    "frame2 = tk.Frame(master=window, width=100, bg=\"yellow\")\n",
    "frame2.pack(fill=tk.BOTH, side=tk.LEFT, expand=True)\n",
    "\n",
    "frame3 = tk.Frame(master=window, width=50, bg=\"blue\")\n",
    "frame3.pack(fill=tk.BOTH, side=tk.LEFT, expand=True)\n",
    "\n",
    "window.mainloop()"
   ]
  },
  {
   "cell_type": "code",
   "execution_count": 91,
   "metadata": {},
   "outputs": [],
   "source": [
    "window = tk.Tk()\n",
    "\n",
    "frame = tk.Frame(master=window, width=150, height=150)\n",
    "frame.pack()\n",
    "\n",
    "label1 = tk.Label(master=frame, text=\"I'm at (0, 0)\", bg=\"red\")\n",
    "label1.place(x=0, y=0)\n",
    "\n",
    "label2 = tk.Label(master=frame, text=\"I'm at (75, 75)\", bg=\"yellow\")\n",
    "label2.place(x=75, y=75)\n",
    "\n",
    "window.mainloop()"
   ]
  },
  {
   "cell_type": "code",
   "execution_count": 92,
   "metadata": {},
   "outputs": [],
   "source": [
    "window = tk.Tk()\n",
    "\n",
    "for i in range(3):\n",
    "    for j in range(3):\n",
    "        frame = tk.Frame(\n",
    "            master=window,\n",
    "            relief=tk.RAISED,\n",
    "            borderwidth=1\n",
    "        )\n",
    "        frame.grid(row=i, column=j)\n",
    "        label = tk.Label(master=frame, text=f\"Row {i}\\nColumn {j}\")\n",
    "        label.pack()\n",
    "\n",
    "window.mainloop()"
   ]
  },
  {
   "cell_type": "code",
   "execution_count": 93,
   "metadata": {},
   "outputs": [],
   "source": [
    "window = tk.Tk()\n",
    "\n",
    "for i in range(3):\n",
    "    for j in range(3):\n",
    "        frame = tk.Frame(\n",
    "            master=window,\n",
    "            relief=tk.RAISED,\n",
    "            borderwidth=1\n",
    "        )\n",
    "        frame.grid(row=i, column=j)\n",
    "        label = tk.Label(master=frame, text=f\"Row {i}\\nColumn {j}\")\n",
    "        label.pack()\n",
    "\n",
    "window.mainloop()"
   ]
  },
  {
   "cell_type": "code",
   "execution_count": 94,
   "metadata": {},
   "outputs": [],
   "source": [
    "window = tk.Tk()\n",
    "\n",
    "for i in range(3):\n",
    "    for j in range(3):\n",
    "        frame = tk.Frame(\n",
    "            master=window,\n",
    "            relief=tk.RAISED,\n",
    "            borderwidth=1\n",
    "        )\n",
    "        frame.grid(row=i, column=j, padx=5, pady=5)\n",
    "        label = tk.Label(master=frame, text=f\"Row {i}\\nColumn {j}\")\n",
    "        label.pack()\n",
    "\n",
    "window.mainloop()"
   ]
  },
  {
   "cell_type": "markdown",
   "metadata": {},
   "source": [
    "# Making your Application Interactive"
   ]
  },
  {
   "cell_type": "markdown",
   "metadata": {},
   "source": [
    " window.mainloop() to start the event loop. \n",
    "During the event loop, your application checks if an event has occurred. If so, then some code can be executed in response."
   ]
  },
  {
   "cell_type": "markdown",
   "metadata": {},
   "source": [
    "events_list = []\n",
    "\n",
    "# Run the event loop\n",
    "while True:\n",
    "    # If events_list is empty, then no events have occurred and you\n",
    "    # can skip to the next iteration of the loop\n",
    "    if events_list == []:\n",
    "        continue\n",
    "\n",
    "    # If execution reaches this point, then there is at least one\n",
    "    # event object in events_list\n",
    "    event = events_list[0]"
   ]
  },
  {
   "cell_type": "markdown",
   "metadata": {},
   "source": [
    "events_list = []\n",
    "\n",
    "# Create an event handler\n",
    "def handle_keypress(event):\n",
    "    \"\"\"Print the character associated to the key pressed\"\"\"\n",
    "    print(event.char)\n",
    "\n",
    "while True:\n",
    "    if events_list == []:\n",
    "        continue\n",
    "    event = events_list[0]\n",
    "\n",
    "    # If event is a keypress event object\n",
    "    if event.type == \"keypress\":\n",
    "        # Call the keypress event handler\n",
    "        handle_keypress(event)"
   ]
  },
  {
   "cell_type": "markdown",
   "metadata": {},
   "source": [
    "\n",
    "# Create a window object\n",
    "window = tk.Tk()\n",
    "\n",
    "# Create an event handler\n",
    "def handle_keypress(event):\n",
    "    \"\"\"Print the character associated to the key pressed\"\"\"\n",
    "    print(event.char)\n",
    "\n",
    "# Run the event loop\n",
    "window.mainloop()"
   ]
  }
 ],
 "metadata": {
  "kernelspec": {
   "display_name": "Python 3",
   "language": "python",
   "name": "python3"
  },
  "language_info": {
   "codemirror_mode": {
    "name": "ipython",
    "version": 3
   },
   "file_extension": ".py",
   "mimetype": "text/x-python",
   "name": "python",
   "nbconvert_exporter": "python",
   "pygments_lexer": "ipython3",
   "version": "3.8.5"
  }
 },
 "nbformat": 4,
 "nbformat_minor": 4
}
