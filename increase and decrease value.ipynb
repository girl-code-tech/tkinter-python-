{
 "cells": [
  {
   "cell_type": "code",
   "execution_count": 2,
   "metadata": {},
   "outputs": [],
   "source": [
    "# Increasing and Decreasing the value"
   ]
  },
  {
   "cell_type": "code",
   "execution_count": 3,
   "metadata": {},
   "outputs": [],
   "source": [
    "def increase():\n",
    "    value = int(label[\"text\"])\n",
    "    label[\"text\"] = f\"{value + 1}\"\n",
    "\n",
    "\n",
    "def decrease():\n",
    "    value = int(label[\"text\"])\n",
    "    label[\"text\"] = f\"{value - 1}\"\n",
    "    \n",
    "    \n",
    "\n",
    "import tkinter as tk\n",
    "window=tk.Tk()\n",
    "button=tk.Button(master=window, text=\"+\", command=increase,\n",
    "    width=5,\n",
    "    height=2,\n",
    "    bg=\"white\",\n",
    "    borderwidth=1,padx=2,\n",
    "    fg=\"black\",)\n",
    "button.pack(side=tk.LEFT)\n",
    "\n",
    "label=tk.Label(master=window,\n",
    "text=0,\n",
    " width=5,\n",
    "    height=2,\n",
    "    bg=\"black\", fg=\"white\",\n",
    "    borderwidth=1, padx=2,\n",
    "    )\n",
    "label.pack(side=tk.LEFT)\n",
    "\n",
    "button=tk.Button( master=window,text=\"-\", command=decrease,\n",
    "    width=5,\n",
    "    height=2,\n",
    "    bg=\"white\",\n",
    "    borderwidth=1, padx=2,\n",
    "    fg=\"black\",)\n",
    "button.pack(side=tk.LEFT)\n",
    "window.mainloop()"
   ]
  },
  {
   "cell_type": "code",
   "execution_count": null,
   "metadata": {},
   "outputs": [],
   "source": []
  }
 ],
 "metadata": {
  "kernelspec": {
   "display_name": "Python 3",
   "language": "python",
   "name": "python3"
  },
  "language_info": {
   "codemirror_mode": {
    "name": "ipython",
    "version": 3
   },
   "file_extension": ".py",
   "mimetype": "text/x-python",
   "name": "python",
   "nbconvert_exporter": "python",
   "pygments_lexer": "ipython3",
   "version": "3.8.5"
  }
 },
 "nbformat": 4,
 "nbformat_minor": 4
}
