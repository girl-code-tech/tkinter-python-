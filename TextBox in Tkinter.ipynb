{
 "cells": [
  {
   "cell_type": "code",
   "execution_count": 23,
   "metadata": {},
   "outputs": [],
   "source": [
    "import tkinter as tk\n",
    "from tkinter.filedialog import askopenfilename, asksaveasfilename"
   ]
  },
  {
   "cell_type": "code",
   "execution_count": 24,
   "metadata": {},
   "outputs": [],
   "source": [
    "def open_file():\n",
    "    \"\"\"Open a file for editing.\"\"\"\n",
    "    filepath = askopenfilename(\n",
    "        filetypes=[(\"Text Files\", \"*.txt\"), (\"All Files\", \"*.*\")]\n",
    "    )\n",
    "    if not filepath:\n",
    "        return\n",
    "    txt_edit.delete(\"1.0\", tk.END)\n",
    "    with open(filepath, \"r\") as input_file:\n",
    "        text = input_file.read()\n",
    "        txt_edit.insert(tk.END, text)\n",
    "    window.title(f\"Simple Text Editor - {filepath}\")\n",
    "\n",
    "    \n",
    "def save_file():\n",
    "    \"\"\"Save the current file as a new file.\"\"\"\n",
    "    filepath = asksaveasfilename(\n",
    "        defaultextension=\"txt\",\n",
    "        filetypes=[(\"Text Files\", \"*.txt\"), (\"All Files\", \"*.*\")],\n",
    "    )\n",
    "    if not filepath:\n",
    "        return\n",
    "    with open(filepath, \"w\") as output_file:\n",
    "        text = txt_edit.get(\"1.0\", tk.END)\n",
    "        output_file.write(text)\n",
    "    window.title(f\"Simple Text Editor - {filepath}\")    \n",
    "    \n",
    "window=tk.Tk()\n",
    "window.title(\"Text Editor\")\n",
    "text=tk.Text(window)\n",
    "left_Frame=tk.Frame(window)\n",
    "Open_btn=tk.Button(left_Frame, text=\"Open\", command=open_file,)\n",
    "Save_btn=tk.Button(left_Frame, text=\"Save\", command=save_file,)\n",
    "left_Frame.pack()\n",
    "Open_btn.grid(row=0, column=0, sticky=\"ew\", padx=5, pady=5)\n",
    "Save_btn.grid(row=1, column=0, sticky=\"ew\", padx=5)\n",
    "left_Frame.grid(row=0, column=0, sticky=\"ns\")\n",
    "text.grid(row=0, column=1, sticky=\"nsew\")\n",
    "#window.pack()\n",
    "window.mainloop()"
   ]
  },
  {
   "cell_type": "code",
   "execution_count": null,
   "metadata": {},
   "outputs": [],
   "source": []
  }
 ],
 "metadata": {
  "kernelspec": {
   "display_name": "Python 3",
   "language": "python",
   "name": "python3"
  },
  "language_info": {
   "codemirror_mode": {
    "name": "ipython",
    "version": 3
   },
   "file_extension": ".py",
   "mimetype": "text/x-python",
   "name": "python",
   "nbconvert_exporter": "python",
   "pygments_lexer": "ipython3",
   "version": "3.8.5"
  }
 },
 "nbformat": 4,
 "nbformat_minor": 4
}
